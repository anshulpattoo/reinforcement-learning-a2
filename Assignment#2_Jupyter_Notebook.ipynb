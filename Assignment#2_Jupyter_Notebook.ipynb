{
  "nbformat": 4,
  "nbformat_minor": 0,
  "metadata": {
    "colab": {
      "provenance": []
    },
    "kernelspec": {
      "name": "python3",
      "display_name": "Python 3"
    },
    "language_info": {
      "name": "python"
    }
  },
  "cells": [
    {
      "cell_type": "code",
      "execution_count": null,
      "metadata": {
        "id": "x6b07WsplMRB"
      },
      "outputs": [],
      "source": [
        "# NOTE: Parts of code are re-purposed from shared tutorials in-class\n",
        "\n",
        "import numpy as np\n",
        "import operator\n",
        "import matplotlib.pyplot as plt\n",
        "%matplotlib inline"
      ]
    },
    {
      "cell_type": "markdown",
      "source": [
        "# Implementation of Q-Learning Agent and SARSA Agent"
      ],
      "metadata": {
        "id": "gJi8QKe6yCpt"
      }
    },
    {
      "cell_type": "markdown",
      "source": [
        "Differences between SARSA and Q-Learning Algorithms Implemented with respect to following explanation from StackOverflow: https://stackoverflow.com/questions/6848828/what-is-the-difference-between-q-learning-and-sarsa\n",
        "\n",
        "In particular, excerpted from the answer of the posting:\n",
        "\n",
        "1. The most important difference between the two is how Q is updated after each action. SARSA uses the Q' following a ε-greedy policy exactly, as A' is drawn from it. In contrast, Q-learning uses the maximum Q' over all possible actions for the next step. This makes it look like following a greedy policy with ε=0, i.e. NO exploration in this part.\n",
        "\n",
        "2. However, when actually taking an action, Q-learning still uses the action taken from a ε-greedy policy. This is why \"Choose A ...\" is inside the repeat loop.\n",
        "\n",
        "3. Following the loop logic in Q-learning, A' is still from the ε-greedy policy.\n",
        "\n"
      ],
      "metadata": {
        "id": "OgVrIynMolBr"
      }
    },
    {
      "cell_type": "code",
      "source": [
        "class QL_Agent():\n",
        "  \"\"\"Initializes Q-learning agent.\"\"\"\n",
        "  def __init__(self, environment, actions, epsilon=0.05, alpha=0.1, gamma=1):\n",
        "    self.environment = environment\n",
        "    self.actions = actions\n",
        "    # All Q-values to be stored in a dictionary of dictionaries\n",
        "    self.q_table = dict()\n",
        "\n",
        "    # Set initial Q-values (all to 0)\n",
        "    for i in range(self.environment.height):\n",
        "      for j in range(self.environment.width):\n",
        "        self.q_table[(i, j)] = {}\n",
        "        for action in self.actions:\n",
        "          self.q_table[(i, j)][action] = 0\n",
        "\n",
        "    self.epsilon = epsilon\n",
        "    self.alpha = alpha\n",
        "    self.gamma = gamma\n",
        "\n",
        "\n",
        "  \"\"\"Returns the optimal action from Q-Value table. If multiple optimal actions, chooses random choice.\n",
        "  Will make an exploratory random action dependent on epsilon.\"\"\"\n",
        "  def choose_action(self, available_actions):\n",
        "    # Explore, i.e., choosing a path the agent is not sure about and possibly learning more\n",
        "    if np.random.uniform(0,1) < self.epsilon:\n",
        "      action = available_actions[np.random.randint(0, len(available_actions))]\n",
        "    # Exploit, i.e., choosing a path that is known and close to what is expected\n",
        "    else:\n",
        "        q_values_state = self.q_table[self.environment.current_location]\n",
        "        # Choose maximum Q-value from Q-values associated with state (and available actions)\n",
        "        max_q_value = max(q_values_state.values())\n",
        "        # Select action relevant to maximum Q-value\n",
        "        # Random action is selected if multiple choices are presented\n",
        "        action = np.random.choice([k for k, v in q_values_state.items() if v == max_q_value])\n",
        "    return action\n",
        "\n",
        "\n",
        "  \"\"\"Updates the Q-value table using Q-learning.\"\"\"\n",
        "  def learn(self, old_state, reward, new_state, action):\n",
        "    q_values_state = self.q_table[new_state]\n",
        "    max_q_value_in_new_state = max(q_values_state.values())\n",
        "    current_q_value = self.q_table[old_state][action]\n",
        "\n",
        "    self.q_table[old_state][action] = (1 - self.alpha) * current_q_value + self.alpha * (reward + self.gamma * max_q_value_in_new_state)\n"
      ],
      "metadata": {
        "id": "7yryiGbmXS6D"
      },
      "execution_count": null,
      "outputs": []
    },
    {
      "cell_type": "code",
      "source": [
        "class SARSA_Agent():\n",
        "  \"\"\"Initializes SARSA agent.\"\"\"\n",
        "  def __init__(self, environment, actions, epsilon=0.05, alpha=0.1, gamma=1):\n",
        "    self.environment = environment\n",
        "    self.actions = actions\n",
        "    # All Q-values to be stored in a dictionary of dictionaries\n",
        "    self.q_table = dict()\n",
        "\n",
        "    # Set initial Q-values (all to 0)\n",
        "    for i in range(self.environment.height):\n",
        "      for j in range(self.environment.width):\n",
        "        self.q_table[(i, j)] = {}\n",
        "        for action in self.actions:\n",
        "          self.q_table[(i, j)][action] = 0\n",
        "\n",
        "    self.epsilon = epsilon\n",
        "    self.alpha = alpha\n",
        "    self.gamma = gamma\n",
        "\n",
        "  \"\"\"Returns the optimal action from Q-Value table. If multiple optimal actions, chooses random choice.\n",
        "  Will make an exploratory random action dependent on epsilon.\"\"\"\n",
        "  def choose_action(self, location, available_actions):\n",
        "    # Explore, i.e., choosing a path the agent is not sure about and possibly learning more\n",
        "    if np.random.uniform(0,1) < self.epsilon:\n",
        "      action = available_actions[np.random.randint(0, len(available_actions))]\n",
        "    # Exploit, i.e., choosing a path that is known and close to what is expected\n",
        "    else:\n",
        "        q_values_state = self.q_table[location]\n",
        "        # Choose maximum Q-value from Q-values associated with state (and available actions)\n",
        "        max_q_value = max(q_values_state.values())\n",
        "        # Select action relevant to maximum Q-value\n",
        "        # Random action is selected if multiple choices are presented\n",
        "        action = np.random.choice([k for k, v in q_values_state.items() if v == max_q_value])\n",
        "    return action\n",
        "\n",
        "\n",
        "  \"\"\"Updates the Q-value table using Q-learning.\"\"\"\n",
        "  def learn(self, old_state, reward, new_state, action):\n",
        "    q_values_state = self.q_table[new_state]\n",
        "    current_q_value = self.q_table[old_state][action]\n",
        "\n",
        "    # Derive next action for new state\n",
        "    next_action = self.choose_action(new_state, self.environment.actions)\n",
        "\n",
        "    self.q_table[old_state][action] = (1 - self.alpha) * current_q_value + self.alpha * (reward + self.gamma * self.q_table[new_state][next_action])\n"
      ],
      "metadata": {
        "id": "jUIOIMXMZdzD"
      },
      "execution_count": null,
      "outputs": []
    },
    {
      "cell_type": "markdown",
      "source": [
        "# Define `play()` function (i.e., algorithm which runs iterations of the agent through the environment and documents cumulative reward per episode"
      ],
      "metadata": {
        "id": "I7yP5YlF7KSB"
      }
    },
    {
      "cell_type": "code",
      "source": [
        "\"\"\"The `play()` function runs iterations and updates Q-values if desired.\"\"\"\n",
        "def play(environment, agent, ql_agent=True, trials=500, max_steps_per_episode=1000, learn=False):\n",
        "    # List of reward per episode\n",
        "    reward_per_episode = []\n",
        "    optimal_policy = [environment.current_location]\n",
        "\n",
        "    for trial in range(trials): # Run trials\n",
        "        cumulative_reward = 0 # Initialise values of each game\n",
        "        step = 0\n",
        "        game_over = False\n",
        "        while step < max_steps_per_episode and game_over != True: # Run until max steps or until game is finished\n",
        "            old_state = environment.current_location\n",
        "            if not ql_agent:\n",
        "              action = agent.choose_action(environment.current_location, environment.actions)\n",
        "            else:\n",
        "              action = agent.choose_action(environment.actions)\n",
        "            reward = environment.make_step(action)\n",
        "            new_state = environment.current_location\n",
        "\n",
        "            if learn == True: # Update Q-values if learning is specified\n",
        "              agent.learn(old_state, reward, new_state, action)\n",
        "            else:\n",
        "              optimal_policy.append(new_state)\n",
        "\n",
        "            cumulative_reward += reward\n",
        "            step += 1\n",
        "\n",
        "            if environment.check_state() == 'TERMINAL': # If game is in terminal state, game over and start next trial\n",
        "              environment.__init__()\n",
        "              game_over = True\n",
        "\n",
        "        reward_per_episode.append(cumulative_reward) # Append reward for current trial to performance log\n",
        "\n",
        "    if learn == True:\n",
        "      return reward_per_episode # Return performance log\n",
        "    elif learn == False:\n",
        "      return (reward_per_episode, optimal_policy)"
      ],
      "metadata": {
        "id": "UQBRO9Z-7XHI"
      },
      "execution_count": null,
      "outputs": []
    },
    {
      "cell_type": "markdown",
      "source": [
        "# Normal moves with deterministic wind"
      ],
      "metadata": {
        "id": "t3Cyo7zulw78"
      }
    },
    {
      "cell_type": "code",
      "source": [
        "class Normal_Moves_With_Deterministic_Wind():\n",
        "\n",
        "  \"\"\"Initialize Grid World in which normal moves are permitted and wind is deterministic\"\"\"\n",
        "  def __init__(self):\n",
        "    # Set information about the gridworld\n",
        "    self.height = 7\n",
        "    self.width = 10\n",
        "    self.grid = np.zeros((self.height, self.width)) - 1 # Create a height x width matrix full of -1 rewards\n",
        "    self.wind_effect_vec = [0, 0, 0, 1, 1, 1, 2, 2, 1, 0]\n",
        "\n",
        "    # Set start location for the agent\n",
        "    # Location (n1, n2), where n1 indexes position on height dimension\n",
        "    # and n2 indexes position on width dimension\n",
        "    self.current_location = (3, 0)\n",
        "\n",
        "    self.gold_location = (3, 7)\n",
        "    self.terminal_states = [self.gold_location]\n",
        "\n",
        "    # Set grid rewards for special cells\n",
        "    self.grid[self.gold_location[0], self.gold_location[1]] = 10\n",
        "\n",
        "    # Set available actions\n",
        "    self.actions = [\"NORTH\", \"SOUTH\", \"WEST\", \"EAST\"]\n",
        "\n",
        "  \"\"\"Returns possible actions\"\"\"\n",
        "  def get_available_actions(self):\n",
        "      return self.actions\n",
        "\n",
        "  \"\"\"Prints out current location of the agent on the grid (used for debugging)\"\"\"\n",
        "  def agent_on_map(self): # turned 2D coordinates into a \"map\"\n",
        "      grid = np.zeros((self.height, self.width))\n",
        "      grid[self.current_location[0], self.current_location[1]] = 1\n",
        "      return grid\n",
        "\n",
        "  \"\"\"Returns the reward for an input position\"\"\"\n",
        "  def get_reward(self, new_location):\n",
        "      return self.grid[new_location[0], new_location[1]]\n",
        "\n",
        "  \"\"\"Moves the agent in the specified direction. If agent is at a border, agent stays still\n",
        "     but takes negative reward. Function returns the reward for the move.\"\"\"\n",
        "  def make_step(self, action):\n",
        "      # Store previous location\n",
        "      last_location = self.current_location\n",
        "\n",
        "      current_wind_effect = self.wind_effect_vec[self.current_location[1]]\n",
        "\n",
        "      if action == 'NORTH':\n",
        "        new_location = (self.current_location[0] - 1 - current_wind_effect, self.current_location[1])\n",
        "      elif action == 'SOUTH':\n",
        "        new_location = (self.current_location[0] + 1 - current_wind_effect, self.current_location[1])\n",
        "      elif action == 'WEST':\n",
        "        new_location = (self.current_location[0] - current_wind_effect, self.current_location[1] - 1)\n",
        "      elif action == 'EAST':\n",
        "        new_location = (self.current_location[0] - current_wind_effect, self.current_location[1] + 1)\n",
        "\n",
        "\n",
        "      # Only modify current location to the extent that it is a possibility\n",
        "      if (new_location[0] <= (self.height - 1)) and (new_location[0] >= 0):\n",
        "          self.current_location = (new_location[0], self.current_location[1])\n",
        "      if (new_location[1] <= (self.width - 1)) and (new_location[1] >= 0):\n",
        "          self.current_location = (self.current_location[0], new_location[1])\n",
        "\n",
        "      reward = self.get_reward(self.current_location)\n",
        "\n",
        "      return reward\n",
        "\n",
        "  def check_state(self):\n",
        "      \"\"\"Check if the agent is in a terminal state (gold or bomb), if so return 'TERMINAL'\"\"\"\n",
        "      if self.current_location in self.terminal_states:\n",
        "          return 'TERMINAL'"
      ],
      "metadata": {
        "id": "vjsmDhKwsulZ"
      },
      "execution_count": null,
      "outputs": []
    },
    {
      "cell_type": "markdown",
      "source": [
        "# King's moves with stochastic Wind"
      ],
      "metadata": {
        "id": "r4GvLrkhl2IW"
      }
    },
    {
      "cell_type": "code",
      "source": [
        "class King_Moves_With_Deterministic_Wind():\n",
        "\n",
        "  \"\"\"Initialize Grid World in which normal moves are permitted and wind is deterministic\"\"\"\n",
        "  def __init__(self):\n",
        "    # Set information about the gridworld\n",
        "    self.height = 7\n",
        "    self.width = 10\n",
        "    self.grid = np.zeros((self.height, self.width)) - 1 # Create a height x width matrix full of -1 rewards\n",
        "    self.wind_effect_vec = [0, 0, 0, 1, 1, 1, 2, 2, 1, 0]\n",
        "\n",
        "    # Set start location for the agent\n",
        "    # Location (n1, n2), where n1 indexes position on height dimension\n",
        "    # and n2 indexes position on width dimension\n",
        "    self.current_location = (3, 0)\n",
        "\n",
        "    self.gold_location = (3, 7)\n",
        "    self.terminal_states = [self.gold_location]\n",
        "\n",
        "    # Set grid rewards for special cells\n",
        "    self.grid[self.gold_location[0], self.gold_location[1]] = 10\n",
        "\n",
        "    # Set available actions\n",
        "    self.actions = [\"NORTH\", \"NORTHEAST\", \"NORTHWEST\", \"SOUTH\", \"SOUTHEAST\", \"SOUTHWEST\",\n",
        "                    \"WEST\", \"EAST\"]\n",
        "\n",
        "  \"\"\"Returns possible actions\"\"\"\n",
        "  def get_available_actions(self):\n",
        "      return self.actions\n",
        "\n",
        "  \"\"\"Prints out current location of the agent on the grid (used for debugging)\"\"\"\n",
        "  def agent_on_map(self): # turned 2D coordinates into a \"map\"\n",
        "      grid = np.zeros((self.height, self.width))\n",
        "      grid[self.current_location[0], self.current_location[1]] = 1\n",
        "      return grid\n",
        "\n",
        "  \"\"\"Returns the reward for an input position\"\"\"\n",
        "  def get_reward(self, new_location):\n",
        "      return self.grid[new_location[0], new_location[1]]\n",
        "\n",
        "  \"\"\"Moves the agent in the specified direction. If agent is at a border, agent stays still\n",
        "     but takes negative reward. Function returns the reward for the move.\"\"\"\n",
        "  def make_step(self, action):\n",
        "      # Store previous location\n",
        "      last_location = self.current_location\n",
        "\n",
        "      current_wind_effect = self.wind_effect_vec[self.current_location[1]]\n",
        "\n",
        "      if action == 'NORTH':\n",
        "        new_location = (self.current_location[0] - 1 - current_wind_effect, self.current_location[1])\n",
        "      if action == 'NORTHWEST':\n",
        "        new_location = (self.current_location[0] - 1 - current_wind_effect, self.current_location[1] - 1)\n",
        "      if action == 'NORTHEAST':\n",
        "        new_location = (self.current_location[0] - 1 - current_wind_effect, self.current_location[1] + 1)\n",
        "      elif action == 'SOUTH':\n",
        "        new_location = (self.current_location[0] + 1 - current_wind_effect, self.current_location[1])\n",
        "      elif action == 'SOUTHEAST':\n",
        "        new_location = (self.current_location[0] + 1 - current_wind_effect, self.current_location[1] + 1)\n",
        "      elif action == 'SOUTHWEST':\n",
        "        new_location = (self.current_location[0] + 1 - current_wind_effect, self.current_location[1] - 1)\n",
        "      elif action == 'WEST':\n",
        "        new_location = (self.current_location[0] - current_wind_effect, self.current_location[1] - 1)\n",
        "      elif action == 'EAST':\n",
        "        new_location = (self.current_location[0] - current_wind_effect, self.current_location[1] + 1)\n",
        "\n",
        "\n",
        "      # Make a random choice of A, B, or C; each category pertains to different stochastic wind effects\n",
        "      step_choice = np.random.choice([\"A\", \"B\", \"C\"], p = [1/3, 1/3, 1/3])\n",
        "\n",
        "      if step_choice == \"A\":\n",
        "        new_location = new_location\n",
        "      elif step_choice == \"B\":\n",
        "        new_location = (new_location[0] + 1, new_location[1])\n",
        "      elif step_choice == \"C\":\n",
        "        new_location = (new_location[0] + 2, new_location[1])\n",
        "\n",
        "      # Only modify current location to the extent that it is a possibility\n",
        "      if (new_location[0] <= (self.height - 1)) and (new_location[0] >= 0):\n",
        "          self.current_location = (new_location[0], self.current_location[1])\n",
        "      if (new_location[1] <= (self.width - 1)) and (new_location[1] >= 0):\n",
        "          self.current_location = (self.current_location[0], new_location[1])\n",
        "\n",
        "      reward = self.get_reward(self.current_location)\n",
        "\n",
        "      return reward\n",
        "\n",
        "  def check_state(self):\n",
        "      \"\"\"Check if the agent is in a terminal state (gold or bomb), if so return 'TERMINAL'\"\"\"\n",
        "      if self.current_location in self.terminal_states:\n",
        "          return 'TERMINAL'"
      ],
      "metadata": {
        "id": "xyyR7JyYSUfP"
      },
      "execution_count": null,
      "outputs": []
    },
    {
      "cell_type": "markdown",
      "source": [
        "# Some testing"
      ],
      "metadata": {
        "id": "r76n8mAQ0_Lj"
      }
    },
    {
      "cell_type": "code",
      "source": [
        "env = Normal_Moves_With_Deterministic_Wind()\n",
        "# env = King_Moves_With_Deterministic_Wind()"
      ],
      "metadata": {
        "id": "4go1qsCA8Ikv"
      },
      "execution_count": null,
      "outputs": []
    },
    {
      "cell_type": "code",
      "source": [
        "print(env.grid.shape)"
      ],
      "metadata": {
        "colab": {
          "base_uri": "https://localhost:8080/"
        },
        "id": "hSynpP5BO_Tc",
        "outputId": "6170716c-9376-4cd4-9eee-0050fb00e89a"
      },
      "execution_count": null,
      "outputs": [
        {
          "output_type": "stream",
          "name": "stdout",
          "text": [
            "(7, 10)\n"
          ]
        }
      ]
    },
    {
      "cell_type": "code",
      "source": [
        "ql_agent = QL_Agent(environment=env, actions=env.actions)"
      ],
      "metadata": {
        "id": "eNrfFmzv8OQi"
      },
      "execution_count": null,
      "outputs": []
    },
    {
      "cell_type": "code",
      "source": [
        "print(\"Current position of the agent =\", env.current_location)"
      ],
      "metadata": {
        "colab": {
          "base_uri": "https://localhost:8080/"
        },
        "id": "KhGb_9P89GxS",
        "outputId": "70258220-e352-4aa8-db8f-baeabddb6c6b"
      },
      "execution_count": null,
      "outputs": [
        {
          "output_type": "stream",
          "name": "stdout",
          "text": [
            "Current position of the agent = (3, 0)\n"
          ]
        }
      ]
    },
    {
      "cell_type": "code",
      "source": [
        "print(env.agent_on_map())"
      ],
      "metadata": {
        "colab": {
          "base_uri": "https://localhost:8080/"
        },
        "id": "43CMMs5o9Ipm",
        "outputId": "9e843647-c8bd-4c44-abf4-4215547d8c58"
      },
      "execution_count": null,
      "outputs": [
        {
          "output_type": "stream",
          "name": "stdout",
          "text": [
            "[[0. 0. 0. 0. 0. 0. 0. 0. 0. 0.]\n",
            " [0. 0. 0. 0. 0. 0. 0. 0. 0. 0.]\n",
            " [0. 0. 0. 0. 0. 0. 0. 0. 0. 0.]\n",
            " [1. 0. 0. 0. 0. 0. 0. 0. 0. 0.]\n",
            " [0. 0. 0. 0. 0. 0. 0. 0. 0. 0.]\n",
            " [0. 0. 0. 0. 0. 0. 0. 0. 0. 0.]\n",
            " [0. 0. 0. 0. 0. 0. 0. 0. 0. 0.]]\n"
          ]
        }
      ]
    },
    {
      "cell_type": "code",
      "source": [
        "available_actions = env.get_available_actions()\n",
        "print(\"Available_actions =\", available_actions)"
      ],
      "metadata": {
        "colab": {
          "base_uri": "https://localhost:8080/"
        },
        "id": "R8E11SwU9PR_",
        "outputId": "651f53b7-35dc-4c77-ed28-828a4135b894"
      },
      "execution_count": null,
      "outputs": [
        {
          "output_type": "stream",
          "name": "stdout",
          "text": [
            "Available_actions = ['NORTH', 'SOUTH', 'WEST', 'EAST']\n"
          ]
        }
      ]
    },
    {
      "cell_type": "code",
      "source": [
        "chosen_action = ql_agent.choose_action(available_actions)\n",
        "print(\"Randomly chosen action =\", chosen_action)"
      ],
      "metadata": {
        "colab": {
          "base_uri": "https://localhost:8080/"
        },
        "id": "z0PFUeUf9TVy",
        "outputId": "0306c102-1747-404a-cbd2-7d51cffc7ef0"
      },
      "execution_count": null,
      "outputs": [
        {
          "output_type": "stream",
          "name": "stdout",
          "text": [
            "Randomly chosen action = WEST\n"
          ]
        }
      ]
    },
    {
      "cell_type": "code",
      "source": [
        "reward = env.make_step(chosen_action)\n",
        "print(\"Reward obtained =\", reward)"
      ],
      "metadata": {
        "colab": {
          "base_uri": "https://localhost:8080/"
        },
        "id": "w_5rTAD996Gc",
        "outputId": "a6ffb677-8ee9-4719-e5f7-b47e2445843e"
      },
      "execution_count": null,
      "outputs": [
        {
          "output_type": "stream",
          "name": "stdout",
          "text": [
            "Reward obtained = -1.0\n"
          ]
        }
      ]
    },
    {
      "cell_type": "code",
      "source": [
        "print(\"Current position of the agent =\", env.current_location)"
      ],
      "metadata": {
        "colab": {
          "base_uri": "https://localhost:8080/"
        },
        "id": "cWMsaZeR975z",
        "outputId": "6685168f-b11a-4476-e5ca-fa805a26fdf2"
      },
      "execution_count": null,
      "outputs": [
        {
          "output_type": "stream",
          "name": "stdout",
          "text": [
            "Current position of the agent = (3, 0)\n"
          ]
        }
      ]
    },
    {
      "cell_type": "code",
      "source": [
        "print(env.agent_on_map())"
      ],
      "metadata": {
        "colab": {
          "base_uri": "https://localhost:8080/"
        },
        "id": "40dzggJs9-6R",
        "outputId": "bd3e1090-41fc-464a-d2d2-33b0e7d86a94"
      },
      "execution_count": null,
      "outputs": [
        {
          "output_type": "stream",
          "name": "stdout",
          "text": [
            "[[0. 0. 0. 0. 0. 0. 0. 0. 0. 0.]\n",
            " [0. 0. 0. 0. 0. 0. 0. 0. 0. 0.]\n",
            " [0. 0. 0. 0. 0. 0. 0. 0. 0. 0.]\n",
            " [1. 0. 0. 0. 0. 0. 0. 0. 0. 0.]\n",
            " [0. 0. 0. 0. 0. 0. 0. 0. 0. 0.]\n",
            " [0. 0. 0. 0. 0. 0. 0. 0. 0. 0.]\n",
            " [0. 0. 0. 0. 0. 0. 0. 0. 0. 0.]]\n"
          ]
        }
      ]
    },
    {
      "cell_type": "markdown",
      "source": [
        "# **Experiments / Results of algorithms implemented, i.e., part two of report**\n",
        "\n",
        "Parameters of interest that we vary are **alpha, epsilon, and gamma**"
      ],
      "metadata": {
        "id": "S_V18QVH90aQ"
      }
    },
    {
      "cell_type": "code",
      "source": [
        "# Initialize environment and agent\n",
        "environment = Normal_Moves_With_Deterministic_Wind()\n",
        "ql_agent = QL_Agent(environment, environment.actions)\n",
        "\n",
        "reward_per_episode = play(environment, ql_agent, ql_agent=True, trials=500, learn=True)\n",
        "\n",
        "# Simple learning curve\n",
        "plt.plot(reward_per_episode)"
      ],
      "metadata": {
        "colab": {
          "base_uri": "https://localhost:8080/",
          "height": 283
        },
        "id": "egX5MJiN-CfR",
        "outputId": "b57b7b0f-ed13-4e98-c037-ba12e0597efa"
      },
      "execution_count": null,
      "outputs": [
        {
          "output_type": "execute_result",
          "data": {
            "text/plain": [
              "[<matplotlib.lines.Line2D at 0x7fbd78bbd090>]"
            ]
          },
          "metadata": {},
          "execution_count": 612
        },
        {
          "output_type": "display_data",
          "data": {
            "text/plain": [
              "<Figure size 432x288 with 1 Axes>"
            ],
            "image/png": "[encoded data removed]"
          },
          "metadata": {
            "needs_background": "light"
          }
        }
      ]
    },
    {
      "cell_type": "code",
      "source": [
        "# Optimal policy\n",
        "data = play(environment, ql_agent, ql_agent=True, trials=1, learn=False)\n",
        "print(data[1])"
      ],
      "metadata": {
        "colab": {
          "base_uri": "https://localhost:8080/"
        },
        "id": "S1Aaikrz2Aqo",
        "outputId": "876acb69-0c12-4de6-a112-48bb457f3e57"
      },
      "execution_count": null,
      "outputs": [
        {
          "output_type": "stream",
          "name": "stdout",
          "text": [
            "[(3, 0), (3, 1), (4, 1), (4, 2), (5, 2), (5, 3), (4, 4), (3, 5), (2, 6), (0, 7), (0, 8), (0, 9), (1, 9), (2, 9), (3, 9), (4, 9), (4, 8), (3, 7)]\n"
          ]
        }
      ]
    },
    {
      "cell_type": "code",
      "source": [
        "# Initialize environment and agent\n",
        "environment = Normal_Moves_With_Deterministic_Wind()\n",
        "sarsa_agent = SARSA_Agent(environment, environment.actions)\n",
        "\n",
        "reward_per_episode = play(environment, sarsa_agent, ql_agent=False, trials=500, learn=True)\n",
        "\n",
        "# Simple learning curve\n",
        "plt.plot(reward_per_episode)"
      ],
      "metadata": {
        "colab": {
          "base_uri": "https://localhost:8080/",
          "height": 283
        },
        "id": "0YFb80FE38vS",
        "outputId": "ec5f4f52-56d9-497c-f8d6-fde613075c78"
      },
      "execution_count": null,
      "outputs": [
        {
          "output_type": "execute_result",
          "data": {
            "text/plain": [
              "[<matplotlib.lines.Line2D at 0x7fbd78b91c90>]"
            ]
          },
          "metadata": {},
          "execution_count": 614
        },
        {
          "output_type": "display_data",
          "data": {
            "text/plain": [
              "<Figure size 432x288 with 1 Axes>"
            ],
            "image/png": "[encoded data removed]"
          },
          "metadata": {
            "needs_background": "light"
          }
        }
      ]
    },
    {
      "cell_type": "code",
      "source": [
        "# Optimal policy\n",
        "data = play(environment, sarsa_agent, ql_agent=False, trials=1, learn=False)\n",
        "print(data[1])"
      ],
      "metadata": {
        "colab": {
          "base_uri": "https://localhost:8080/"
        },
        "id": "nitgOWjH4JPO",
        "outputId": "b9479d5a-4a5c-4f42-991e-91a923ce51c6"
      },
      "execution_count": null,
      "outputs": [
        {
          "output_type": "stream",
          "name": "stdout",
          "text": [
            "[(3, 0), (3, 1), (3, 2), (3, 3), (2, 4), (0, 4), (0, 4), (0, 5), (0, 6), (0, 7), (0, 8), (0, 9), (1, 9), (2, 9), (3, 9), (4, 9), (4, 8), (3, 7)]\n"
          ]
        }
      ]
    },
    {
      "cell_type": "code",
      "source": [
        "# Initialize environment and agent\n",
        "environment = King_Moves_With_Deterministic_Wind()\n",
        "ql_agent = QL_Agent(environment, environment.actions)\n",
        "\n",
        "reward_per_episode = play(environment, ql_agent, ql_agent=True, trials=500, learn=True)\n",
        "\n",
        "# Simple learning curve\n",
        "plt.plot(reward_per_episode)"
      ],
      "metadata": {
        "colab": {
          "base_uri": "https://localhost:8080/",
          "height": 283
        },
        "id": "1SOW4GKt4iaq",
        "outputId": "2a699490-5e52-42dc-fa38-4de56d4d5f2e"
      },
      "execution_count": null,
      "outputs": [
        {
          "output_type": "execute_result",
          "data": {
            "text/plain": [
              "[<matplotlib.lines.Line2D at 0x7fbd78b04910>]"
            ]
          },
          "metadata": {},
          "execution_count": 617
        },
        {
          "output_type": "display_data",
          "data": {
            "text/plain": [
              "<Figure size 432x288 with 1 Axes>"
            ],
            "image/png": "[encoded data removed]"
          },
          "metadata": {
            "needs_background": "light"
          }
        }
      ]
    },
    {
      "cell_type": "code",
      "source": [
        "# Optimal policy\n",
        "data = play(environment, ql_agent, ql_agent=True, trials=1, learn=False)\n",
        "print(data[1])"
      ],
      "metadata": {
        "colab": {
          "base_uri": "https://localhost:8080/"
        },
        "id": "jOLXIx024ltB",
        "outputId": "f726d90d-1eff-43a8-d15b-9f4c993823e3"
      },
      "execution_count": null,
      "outputs": [
        {
          "output_type": "stream",
          "name": "stdout",
          "text": [
            "[(3, 0), (2, 1), (4, 2), (6, 3), (6, 4), (6, 5), (4, 6), (4, 7), (3, 7)]\n"
          ]
        }
      ]
    },
    {
      "cell_type": "code",
      "source": [
        "# Initialize environment and agent\n",
        "environment = King_Moves_With_Deterministic_Wind()\n",
        "SARSA_Agent = SARSA_Agent(environment, environment.actions)\n",
        "\n",
        "reward_per_episode = play(environment, SARSA_Agent, ql_agent=False, trials=500, learn=True)\n",
        "\n",
        "# Simple learning curve\n",
        "plt.plot(reward_per_episode)"
      ],
      "metadata": {
        "colab": {
          "base_uri": "https://localhost:8080/",
          "height": 283
        },
        "id": "gF_Rq4rd4nPh",
        "outputId": "5e9f0ebe-75e0-4952-e1e7-7f61c50ff6c8"
      },
      "execution_count": null,
      "outputs": [
        {
          "output_type": "execute_result",
          "data": {
            "text/plain": [
              "[<matplotlib.lines.Line2D at 0x7fbd78a7f450>]"
            ]
          },
          "metadata": {},
          "execution_count": 619
        },
        {
          "output_type": "display_data",
          "data": {
            "text/plain": [
              "<Figure size 432x288 with 1 Axes>"
            ],
            "image/png": "[encoded data removed]"
          },
          "metadata": {
            "needs_background": "light"
          }
        }
      ]
    },
    {
      "cell_type": "code",
      "source": [
        "# Optimal policy\n",
        "data = play(environment, SARSA_Agent, ql_agent=False, trials=1, learn=False)\n",
        "print(data[1])"
      ],
      "metadata": {
        "colab": {
          "base_uri": "https://localhost:8080/"
        },
        "id": "idxLUMfC4wYc",
        "outputId": "2c19a8f7-57f3-487c-fa12-7239d38fb671"
      },
      "execution_count": null,
      "outputs": [
        {
          "output_type": "stream",
          "name": "stdout",
          "text": [
            "[(3, 0), (3, 1), (4, 2), (6, 3), (6, 4), (5, 5), (4, 6), (4, 7), (2, 8), (3, 7)]\n"
          ]
        }
      ]
    }
  ]
}